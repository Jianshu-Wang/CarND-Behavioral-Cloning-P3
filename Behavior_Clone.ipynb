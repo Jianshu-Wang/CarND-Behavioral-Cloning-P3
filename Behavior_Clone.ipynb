{
 "cells": [
  {
   "cell_type": "code",
   "execution_count": 2,
   "metadata": {},
   "outputs": [
    {
     "name": "stderr",
     "output_type": "stream",
     "text": [
      "Using TensorFlow backend.\n",
      "/miniconda3/envs/carnd-term1/lib/python3.5/site-packages/ipykernel_launcher.py:50: UserWarning: Update your `Conv2D` call to the Keras 2 API: `Conv2D(24, (5, 5), padding=\"same\", activation=\"relu\", strides=(2, 2))`\n",
      "/miniconda3/envs/carnd-term1/lib/python3.5/site-packages/ipykernel_launcher.py:52: UserWarning: Update your `Conv2D` call to the Keras 2 API: `Conv2D(32, (5, 5), padding=\"same\", activation=\"relu\", strides=(2, 2))`\n",
      "/miniconda3/envs/carnd-term1/lib/python3.5/site-packages/ipykernel_launcher.py:54: UserWarning: Update your `Conv2D` call to the Keras 2 API: `Conv2D(48, (5, 5), padding=\"same\", activation=\"relu\", strides=(2, 2))`\n",
      "/miniconda3/envs/carnd-term1/lib/python3.5/site-packages/ipykernel_launcher.py:56: UserWarning: Update your `Conv2D` call to the Keras 2 API: `Conv2D(64, (3, 3), padding=\"same\", activation=\"relu\", strides=(1, 1))`\n",
      "/miniconda3/envs/carnd-term1/lib/python3.5/site-packages/ipykernel_launcher.py:58: UserWarning: Update your `Conv2D` call to the Keras 2 API: `Conv2D(64, (3, 3), padding=\"same\", activation=\"relu\", strides=(1, 1))`\n",
      "/miniconda3/envs/carnd-term1/lib/python3.5/site-packages/keras/models.py:874: UserWarning: The `nb_epoch` argument in `fit` has been renamed `epochs`.\n",
      "  warnings.warn('The `nb_epoch` argument in `fit` '\n"
     ]
    },
    {
     "name": "stdout",
     "output_type": "stream",
     "text": [
      "Train on 27637 samples, validate on 3071 samples\n",
      "Epoch 1/8\n",
      "27637/27637 [==============================] - 385s 14ms/step - loss: 0.0387 - val_loss: 0.0469\n",
      "Epoch 2/8\n",
      "27637/27637 [==============================] - 344s 12ms/step - loss: 0.0317 - val_loss: 0.0443\n",
      "Epoch 3/8\n",
      "27637/27637 [==============================] - 322s 12ms/step - loss: 0.0300 - val_loss: 0.0473\n",
      "Epoch 4/8\n",
      "27637/27637 [==============================] - 338s 12ms/step - loss: 0.0291 - val_loss: 0.0444\n",
      "Epoch 5/8\n",
      "27637/27637 [==============================] - 339s 12ms/step - loss: 0.0280 - val_loss: 0.0484\n",
      "Epoch 6/8\n",
      "27637/27637 [==============================] - 382s 14ms/step - loss: 0.0272 - val_loss: 0.0441\n",
      "Epoch 7/8\n",
      "27637/27637 [==============================] - 379s 14ms/step - loss: 0.0269 - val_loss: 0.0474\n",
      "Epoch 8/8\n",
      "27637/27637 [==============================] - 375s 14ms/step - loss: 0.0259 - val_loss: 0.0459\n"
     ]
    },
    {
     "ename": "ImportError",
     "evalue": "cannot import name 'plt'",
     "output_type": "error",
     "traceback": [
      "\u001b[0;31m---------------------------------------------------------------------------\u001b[0m",
      "\u001b[0;31mImportError\u001b[0m                               Traceback (most recent call last)",
      "\u001b[0;32m<ipython-input-2-cfe4c89794f2>\u001b[0m in \u001b[0;36m<module>\u001b[0;34m\u001b[0m\n\u001b[1;32m     74\u001b[0m \u001b[0mmodel\u001b[0m\u001b[0;34m.\u001b[0m\u001b[0msave\u001b[0m\u001b[0;34m(\u001b[0m\u001b[0;34m'model.h5'\u001b[0m\u001b[0;34m)\u001b[0m\u001b[0;34m\u001b[0m\u001b[0m\n\u001b[1;32m     75\u001b[0m \u001b[0;34m\u001b[0m\u001b[0m\n\u001b[0;32m---> 76\u001b[0;31m \u001b[0;32mfrom\u001b[0m \u001b[0mmatplotlib\u001b[0m\u001b[0;34m.\u001b[0m\u001b[0mpyplot\u001b[0m \u001b[0;32mimport\u001b[0m \u001b[0mplt\u001b[0m\u001b[0;34m\u001b[0m\u001b[0m\n\u001b[0m\u001b[1;32m     77\u001b[0m \u001b[0mprint\u001b[0m\u001b[0;34m(\u001b[0m\u001b[0mhistory_object\u001b[0m\u001b[0;34m.\u001b[0m\u001b[0mhistory\u001b[0m\u001b[0;34m.\u001b[0m\u001b[0mkeys\u001b[0m\u001b[0;34m(\u001b[0m\u001b[0;34m)\u001b[0m\u001b[0;34m)\u001b[0m\u001b[0;34m\u001b[0m\u001b[0m\n\u001b[1;32m     78\u001b[0m \u001b[0;34m\u001b[0m\u001b[0m\n",
      "\u001b[0;31mImportError\u001b[0m: cannot import name 'plt'"
     ]
    }
   ],
   "source": [
    "import os\n",
    "import csv\n",
    "import cv2\n",
    "import numpy as np\n",
    "import sklearn\n",
    "from sklearn.utils import shuffle\n",
    "import matplotlib.image as mpimg\n",
    "\n",
    "angle_correct = 0.23\n",
    "      \n",
    "samples = []\n",
    "with open('./driving_log.csv') as csvfile:\n",
    "    reader = csv.reader(csvfile)\n",
    "    next(reader)\n",
    "    for line in reader:\n",
    "        samples.append(line)\n",
    "\n",
    "images = []\n",
    "angles = []\n",
    "for sample in samples:\n",
    "    center_angle = float(sample[3])\n",
    "    for i in range(3):\n",
    "        name = './IMG/'+sample[i].split('/')[-1]\n",
    "        img = cv2.imread(name)\n",
    "        #img = cv2.resize(img, (80,40))\n",
    "        #img = img[:,:,2] #choose S channel          \n",
    "        images.append(img)\n",
    "        images.append(cv2.flip(img,1))                                      \n",
    "                    \n",
    "        if(i== 0):                        \n",
    "            angles.append(center_angle)\n",
    "            angles.append(center_angle* -1)\n",
    "        if(i == 1):\n",
    "            angles.append(center_angle + angle_correct)\n",
    "            angles.append((center_angle + angle_correct)* -1)                     \n",
    "        if(i== 2):\n",
    "            angles.append(center_angle - angle_correct)\n",
    "            angles.append((center_angle - angle_correct)* -1)\n",
    "                        \n",
    "            # trim image to only see section with road\n",
    "X_train = np.array(images)\n",
    "y_train = np.array(angles)\n",
    "\n",
    "from keras.models import Sequential, Model\n",
    "from keras.layers import Flatten, Dense, Lambda, Cropping2D, Lambda, Convolution2D, Dropout, MaxPooling2D\n",
    "\n",
    "model = Sequential()\n",
    "model.add(Cropping2D(cropping = ((75,25),(0,0)), input_shape=(160, 320, 3)))\n",
    "model.add(Lambda(lambda x: (x/255.0) - 0.5))\n",
    "model.add(Convolution2D(24, 5, 5, border_mode='same', subsample=(2,2), activation='relu'))\n",
    "#model.add(MaxPooling2D())\n",
    "model.add(Convolution2D(32, 5, 5, border_mode='same', subsample=(2,2), activation='relu'))\n",
    "#model.add(MaxPooling2D())\n",
    "model.add(Convolution2D(48, 5, 5, border_mode='same', subsample=(2,2), activation='relu'))\n",
    "#model.add(MaxPooling2D())\n",
    "model.add(Convolution2D(64, 3, 3, border_mode='same', subsample=(1,1), activation='relu'))\n",
    "#model.add(MaxPooling2D())\n",
    "model.add(Convolution2D(64, 3, 3, border_mode='same', subsample=(1,1), activation='relu'))\n",
    "#model.add(MaxPooling2D())\n",
    "model.add(Flatten())\n",
    "model.add(Dense(100))\n",
    "model.add(Dropout(0.5))\n",
    "model.add(Dense(50))\n",
    "model.add(Dropout(0.5))\n",
    "model.add(Dense(10))\n",
    "#model.add(Dropout(0.5))\n",
    "model.add(Dense(1))\n",
    "          \n",
    "model.compile(loss = 'mse', optimizer = 'adam')\n",
    "\n",
    "history_object = model.fit(X_train, y_train, batch_size=32, nb_epoch=8,\n",
    "                  shuffle=True, verbose=1, validation_split = 0.1)\n",
    "       \n",
    "model.save('model.h5')\n",
    "          \n",
    "       "
   ]
  },
  {
   "cell_type": "code",
   "execution_count": 5,
   "metadata": {},
   "outputs": [
    {
     "name": "stdout",
     "output_type": "stream",
     "text": [
      "dict_keys(['val_loss', 'loss'])\n"
     ]
    },
    {
     "data": {
      "image/png": "[encoded data removed]",
      "text/plain": [
       "<matplotlib.figure.Figure at 0x36ad47390>"
      ]
     },
     "metadata": {
      "needs_background": "light"
     },
     "output_type": "display_data"
    }
   ],
   "source": [
    "import matplotlib.pyplot as plt\n",
    "print(history_object.history.keys())\n",
    "          \n",
    "plt.plot(history_object.history['loss'])\n",
    "plt.plot(history_object.history['val_loss'])\n",
    "plt.title('model mean squared error loss')\n",
    "plt.ylabel('mean squared error loss')\n",
    "plt.xlabel('epoch')\n",
    "plt.legend(['training set', 'validation set'], loc='upper right')\n",
    "plt.show()   "
   ]
  },
  {
   "cell_type": "code",
   "execution_count": null,
   "metadata": {},
   "outputs": [],
   "source": []
  }
 ],
 "metadata": {
  "kernelspec": {
   "display_name": "Python 3",
   "language": "python",
   "name": "python3"
  },
  "language_info": {
   "codemirror_mode": {
    "name": "ipython",
    "version": 3
   },
   "file_extension": ".py",
   "mimetype": "text/x-python",
   "name": "python",
   "nbconvert_exporter": "python",
   "pygments_lexer": "ipython3",
   "version": "3.5.2"
  },
  "widgets": {
   "state": {},
   "version": "1.1.2"
  }
 },
 "nbformat": 4,
 "nbformat_minor": 2
}
